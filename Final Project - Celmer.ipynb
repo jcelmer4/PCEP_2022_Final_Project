{
 "cells": [
  {
   "cell_type": "code",
   "execution_count": 4,
   "id": "1154ba88",
   "metadata": {},
   "outputs": [],
   "source": [
    "# Create function to list menu\n",
    "\n",
    "def welcome_menu_function():\n",
    "\n",
    "# dictionary of menu items and price\n",
    "    coffee = {\"Espresso\": 1.50,\"Americano\": 2.00, \"Caffe latte\": 2.50, \"Mocha\": 2.25, \"Cappucino\": 2.50, \"Macchiato\": 2.50 }\n",
    "    tea = {\"White tea\": 1.50, \"Green tea\": 2.00, \"Oolong tea\": 2.25, \"Black tea\": 2.25, \"Earl Grey\": 2.50, \"Matcha\": 2.50}\n",
    "    pastries = {\"Croissant\": 5.50, \"Cinnamon roll\": 4.50, \"Banana bread\": 4.25, \"Sticky bun\": 4.25, \"Apple turnover\": 3.75}\n",
    "       \n",
    "\n",
    "    menu = input(\"Would you like to see the menu? (yes/no) \")\n",
    "\n",
    "# if statement to show menu or not and the format of the menu    \n",
    "    if menu == \"yes\":\n",
    "        print(\"\\nCoffee\")\n",
    "        for a, b in coffee.items():\n",
    "            print(f\"{a} - ${b:.2f}\") \n",
    "        print(\"\\nTea\") \n",
    "        for a, b in tea.items():\n",
    "            print(f\"{a} - ${b:.2f}\") \n",
    "        print(\"\\nPastries\") \n",
    "        for a, b in pastries.items():\n",
    "            print(f\"{a} - ${b:.2f}\")         "
   ]
  },
  {
   "cell_type": "code",
   "execution_count": 5,
   "id": "1a71fdb9",
   "metadata": {},
   "outputs": [],
   "source": [
    "# Dictionary for all menu items\n",
    "all_menu = {\"Espresso\": 1.50,\"Americano\": 2.00, \"Caffe latte\": 2.50, \"Mocha\": 2.25, \"Cappucino\": 2.50, \"Macchiato\": 2.50,\n",
    "               \"White tea\": 1.50, \"Green tea\": 2.00, \"Oolong tea\": 2.25, \"Black tea\": 2.25, \"Earl Grey\": 2.50, \"Matcha\": 2.50,\n",
    "               \"Croissant\": 5.50, \"Cinnamon roll\": 4.50, \"Banana bread\": 4.25, \"Sticky bun\": 4.25, \"Apple turnover\": 3.75}\n",
    "\n",
    "#function to ask to enter an order and how to calculate the cost\n",
    "def order_function():\n",
    "    order = input(\"Would you like to order something? (yes/no) \")\n",
    "    subtotal = 0\n",
    "    item_ordered = []\n",
    "    quanity_ordered = []\n",
    "    summary={}\n",
    "    while order == \"yes\":\n",
    "        item = input(\"What would you like to order? \")\n",
    "        quanity = int(input(\"How many would you like to order: \"))\n",
    "        item_ordered.append(item)\n",
    "        quanity_ordered.append(quanity)\n",
    "        summary[item] = quanity\n",
    "        amount = (all_menu[item]) * quanity\n",
    "        subtotal += amount\n",
    "        order = input(\"Would you like to order anything else? (yes/no) \")\n",
    "    \n",
    "    print(\"\\n\\n****Order Summary****\")\n",
    "    for a, b in summary.items() :\n",
    "        print(f\"{a}, Qty: {b}\")\n",
    "\n",
    "    tax = subtotal*0.06\n",
    "    total_cost = subtotal + tax\n",
    "    print(f\"\\n********************\\nSubtotal: ${subtotal:.2f}\\nState Tax: ${tax:.2f}\\nTotal: ${total_cost:.2f}\")\n",
    "    print(\"\\nThank you for visting MC Cafe!\")"
   ]
  },
  {
   "cell_type": "code",
   "execution_count": 6,
   "id": "09d11c00",
   "metadata": {},
   "outputs": [
    {
     "name": "stdout",
     "output_type": "stream",
     "text": [
      "Welcome to MC Cafe!\n",
      "Would you like to see the menu? (yes/no) yes\n",
      "\n",
      "Coffee\n",
      "Espresso - $1.50\n",
      "Americano - $2.00\n",
      "Caffe latte - $2.50\n",
      "Mocha - $2.25\n",
      "Cappucino - $2.50\n",
      "Macchiato - $2.50\n",
      "\n",
      "Tea\n",
      "White tea - $1.50\n",
      "Green tea - $2.00\n",
      "Oolong tea - $2.25\n",
      "Black tea - $2.25\n",
      "Earl Grey - $2.50\n",
      "Matcha - $2.50\n",
      "\n",
      "Pastries\n",
      "Croissant - $5.50\n",
      "Cinnamon roll - $4.50\n",
      "Banana bread - $4.25\n",
      "Sticky bun - $4.25\n",
      "Apple turnover - $3.75\n",
      "Would you like to order something? (yes/no) yes\n",
      "What would you like to order? Cappucino\n",
      "How many would you like to order: 3\n",
      "Would you like to order anything else? (yes/no) yes\n",
      "What would you like to order? Croissant\n",
      "How many would you like to order: 1\n",
      "Would you like to order anything else? (yes/no) yes\n",
      "What would you like to order? Apple turnover\n",
      "How many would you like to order: 2\n",
      "Would you like to order anything else? (yes/no) no\n",
      "\n",
      "\n",
      "****Order Summary****\n",
      "Cappucino, Qty: 3\n",
      "Croissant, Qty: 1\n",
      "Apple turnover, Qty: 2\n",
      "\n",
      "********************\n",
      "Subtotal: $20.50\n",
      "State Tax: $1.23\n",
      "Total: $21.73\n",
      "\n",
      "Thank you for visting MC Cafe!\n"
     ]
    }
   ],
   "source": [
    "print(\"Welcome to MC Cafe!\")\n",
    "welcome_menu_function()\n",
    "order_function()"
   ]
  },
  {
   "cell_type": "markdown",
   "id": "1047e566",
   "metadata": {},
   "source": []
  },
  {
   "cell_type": "code",
   "execution_count": null,
   "id": "87f4585f",
   "metadata": {},
   "outputs": [],
   "source": []
  },
  {
   "cell_type": "code",
   "execution_count": null,
   "id": "c2a0e263",
   "metadata": {},
   "outputs": [],
   "source": []
  }
 ],
 "metadata": {
  "kernelspec": {
   "display_name": "Python 3 (ipykernel)",
   "language": "python",
   "name": "python3"
  },
  "language_info": {
   "codemirror_mode": {
    "name": "ipython",
    "version": 3
   },
   "file_extension": ".py",
   "mimetype": "text/x-python",
   "name": "python",
   "nbconvert_exporter": "python",
   "pygments_lexer": "ipython3",
   "version": "3.9.12"
  }
 },
 "nbformat": 4,
 "nbformat_minor": 5
}
